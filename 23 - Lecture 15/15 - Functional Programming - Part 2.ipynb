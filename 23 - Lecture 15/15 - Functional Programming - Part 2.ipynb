{
 "cells": [
  {
   "cell_type": "markdown",
   "metadata": {},
   "source": [
    "# 15.1 `enumerate` Function\n",
    "- This function is useful when you need to write code that refers to array indexes."
   ]
  },
  {
   "cell_type": "code",
   "execution_count": null,
   "metadata": {},
   "outputs": [],
   "source": [
    "numbers = [10, 20, 30, 40, 50]\n",
    "enums = list(enumerate(numbers))\n",
    "\n",
    "print(enums)"
   ]
  },
  {
   "cell_type": "code",
   "execution_count": null,
   "metadata": {},
   "outputs": [],
   "source": [
    "numbers = [10, 20, 30, 40, 50]\n",
    "\n",
    "for index, number in enumerate(numbers):\n",
    "    print(f\"{index} --> {number}\")"
   ]
  },
  {
   "cell_type": "markdown",
   "metadata": {},
   "source": [
    "# 15.2 `sorted` Function"
   ]
  },
  {
   "cell_type": "code",
   "execution_count": null,
   "metadata": {},
   "outputs": [],
   "source": [
    "numbers = [20, 50, 40, 10, 30]\n",
    "sorted_numbers = sorted(numbers)\n",
    "\n",
    "print(numbers)\n",
    "print(sorted_numbers)"
   ]
  },
  {
   "cell_type": "code",
   "execution_count": null,
   "metadata": {},
   "outputs": [],
   "source": [
    "numbers = [20, 50, 40, 10, 30]\n",
    "reverse_sorted_numbers = sorted(numbers, reverse=True)\n",
    "\n",
    "print(numbers)\n",
    "print(reverse_sorted_numbers)"
   ]
  },
  {
   "cell_type": "code",
   "execution_count": null,
   "metadata": {},
   "outputs": [],
   "source": [
    "names = ['Noor', 'Ali', 'Ola', 'Raya', 'Salma', 'Alix']\n",
    "sorted_names = sorted(names)\n",
    "\n",
    "print(names)\n",
    "print(sorted_names)"
   ]
  },
  {
   "cell_type": "code",
   "execution_count": null,
   "metadata": {},
   "outputs": [],
   "source": [
    "marks = {\n",
    "    'English': 90,\n",
    "    'Arabic': 85,\n",
    "    'Math': 95,\n",
    "    'Computer Skills': 88,\n",
    "    'Physics': 79,\n",
    "}\n",
    "\n",
    "sorted_marks = sorted(marks)\n",
    "\n",
    "print(marks)\n",
    "print(sorted_marks)  # ??"
   ]
  },
  {
   "cell_type": "code",
   "execution_count": null,
   "metadata": {},
   "outputs": [],
   "source": [
    "marks.items()"
   ]
  },
  {
   "cell_type": "code",
   "execution_count": null,
   "metadata": {},
   "outputs": [],
   "source": [
    "sorted_marks = sorted(marks.items(), key= lambda item: item[1])\n",
    "print(sorted_marks)  ## True"
   ]
  },
  {
   "cell_type": "code",
   "execution_count": null,
   "metadata": {},
   "outputs": [],
   "source": [
    "sorted_marks_dict = dict(sorted_marks)\n",
    "print(sorted_marks_dict)  # ?????"
   ]
  },
  {
   "cell_type": "code",
   "execution_count": null,
   "metadata": {},
   "outputs": [],
   "source": [
    "sorted_marks = sorted(marks.items(), key= lambda item: item[1], reverse=True)\n",
    "print(sorted_marks)"
   ]
  },
  {
   "cell_type": "code",
   "execution_count": null,
   "metadata": {},
   "outputs": [],
   "source": [
    "sorted_marks = sorted(marks.items(), key= lambda item: item[0])\n",
    "print(sorted_marks)  # ??"
   ]
  },
  {
   "cell_type": "markdown",
   "metadata": {},
   "source": [
    "# 15.3 `all` Function\n",
    "- are all elements True?"
   ]
  },
  {
   "cell_type": "code",
   "execution_count": null,
   "metadata": {},
   "outputs": [],
   "source": [
    "values = [True, True, 5==5]\n",
    "\n",
    "print(all(values))"
   ]
  },
  {
   "cell_type": "code",
   "execution_count": null,
   "metadata": {},
   "outputs": [],
   "source": [
    "values = [True, False]\n",
    "\n",
    "print(all(values))"
   ]
  },
  {
   "cell_type": "code",
   "execution_count": null,
   "metadata": {},
   "outputs": [],
   "source": [
    "values = [True, 5==5, 0]\n",
    "\n",
    "print(all(values))"
   ]
  },
  {
   "cell_type": "code",
   "execution_count": null,
   "metadata": {},
   "outputs": [],
   "source": [
    "values = [True, None]\n",
    "\n",
    "print(all(values))"
   ]
  },
  {
   "cell_type": "code",
   "execution_count": null,
   "metadata": {},
   "outputs": [],
   "source": [
    "values = [True, '', 10!=20]\n",
    "\n",
    "print(all(values))"
   ]
  },
  {
   "cell_type": "code",
   "execution_count": null,
   "metadata": {},
   "outputs": [],
   "source": [
    "values = []\n",
    "\n",
    "print(all(values))"
   ]
  },
  {
   "cell_type": "code",
   "execution_count": null,
   "metadata": {},
   "outputs": [],
   "source": [
    "values = (True, 10, 'Hello')\n",
    "\n",
    "print(all(values))"
   ]
  },
  {
   "cell_type": "code",
   "execution_count": null,
   "metadata": {},
   "outputs": [],
   "source": [
    "marks = {\n",
    "    'English': 90,\n",
    "    'Arabic': 85,\n",
    "    'Math': 95,\n",
    "    'Computer Skills': 88,\n",
    "    'Physics': 79,\n",
    "}\n",
    "\n",
    "print(all(marks))"
   ]
  },
  {
   "cell_type": "code",
   "execution_count": null,
   "metadata": {},
   "outputs": [],
   "source": [
    "values = {4, 9, 20, 0}\n",
    "\n",
    "print(all(values))"
   ]
  },
  {
   "cell_type": "markdown",
   "metadata": {},
   "source": [
    "### Write a function to check if all numbers in a list is less than a number n."
   ]
  },
  {
   "cell_type": "code",
   "execution_count": null,
   "metadata": {},
   "outputs": [],
   "source": [
    "def all_less_than(numbers, upper):\n",
    "    return all(map(lambda n: n<upper, numbers))\n",
    "#     for n in numbers:\n",
    "#         if n >= upper:\n",
    "#             return False\n",
    "#     return True"
   ]
  },
  {
   "cell_type": "code",
   "execution_count": null,
   "metadata": {},
   "outputs": [],
   "source": [
    "all_less_than([10, 20, 30], 50)"
   ]
  },
  {
   "cell_type": "code",
   "execution_count": null,
   "metadata": {},
   "outputs": [],
   "source": [
    "all_less_than([10, 20, 30], 30)"
   ]
  },
  {
   "cell_type": "markdown",
   "metadata": {},
   "source": [
    "### Write a function to check if all strings in a list contains at least n letters."
   ]
  },
  {
   "cell_type": "code",
   "execution_count": null,
   "metadata": {},
   "outputs": [],
   "source": [
    "def all_longer_than(strings, n):\n",
    "    return all(map(lambda s: len(s) >= n, strings))\n",
    "\n",
    "names = ['Ali', 'Yu', 'Ahmad', 'Nasser', 'Raya', 'Xi']\n",
    "print(all_longer_than(names, 3))"
   ]
  },
  {
   "cell_type": "markdown",
   "metadata": {},
   "source": [
    "# 15.4 `any` Function\n",
    "- is any element True?"
   ]
  },
  {
   "cell_type": "code",
   "execution_count": null,
   "metadata": {},
   "outputs": [],
   "source": [
    "values = [True, True, 5==5]\n",
    "\n",
    "print(any(values))"
   ]
  },
  {
   "cell_type": "code",
   "execution_count": null,
   "metadata": {},
   "outputs": [],
   "source": [
    "values = [True, False]\n",
    "\n",
    "print(any(values))"
   ]
  },
  {
   "cell_type": "code",
   "execution_count": null,
   "metadata": {},
   "outputs": [],
   "source": [
    "values = [True, 5==5, 0]\n",
    "\n",
    "print(any(values))"
   ]
  },
  {
   "cell_type": "code",
   "execution_count": null,
   "metadata": {},
   "outputs": [],
   "source": [
    "values = [True, None]\n",
    "\n",
    "print(any(values))"
   ]
  },
  {
   "cell_type": "code",
   "execution_count": null,
   "metadata": {},
   "outputs": [],
   "source": [
    "values = [True, '', 10!=20]\n",
    "\n",
    "print(any(values))"
   ]
  },
  {
   "cell_type": "code",
   "execution_count": null,
   "metadata": {},
   "outputs": [],
   "source": [
    "values = ['', 10!=20]\n",
    "\n",
    "print(any(values))"
   ]
  },
  {
   "cell_type": "code",
   "execution_count": null,
   "metadata": {},
   "outputs": [],
   "source": [
    "values = ['', 10 == 20]\n",
    "\n",
    "print(any(values))"
   ]
  },
  {
   "cell_type": "code",
   "execution_count": null,
   "metadata": {},
   "outputs": [],
   "source": [
    "values = []\n",
    "\n",
    "print(any(values))"
   ]
  },
  {
   "cell_type": "code",
   "execution_count": null,
   "metadata": {},
   "outputs": [],
   "source": [
    "values = (True, 10, 'Hello')\n",
    "\n",
    "print(any(values))"
   ]
  },
  {
   "cell_type": "code",
   "execution_count": null,
   "metadata": {},
   "outputs": [],
   "source": [
    "values = (False, 0, '', None)\n",
    "\n",
    "print(any(values))"
   ]
  },
  {
   "cell_type": "markdown",
   "metadata": {},
   "source": [
    "### Write a function to check if any number in a list is larger than a number n."
   ]
  },
  {
   "cell_type": "code",
   "execution_count": null,
   "metadata": {},
   "outputs": [],
   "source": [
    "def is_any_larger(numbers, goal):\n",
    "    return any(map(lambda n: n > goal, numbers))"
   ]
  },
  {
   "cell_type": "code",
   "execution_count": null,
   "metadata": {},
   "outputs": [],
   "source": [
    "is_any_larger([10, 20, 30], 25)"
   ]
  },
  {
   "cell_type": "code",
   "execution_count": null,
   "metadata": {},
   "outputs": [],
   "source": [
    "is_any_larger([10, 20, 30], 50)"
   ]
  },
  {
   "cell_type": "markdown",
   "metadata": {},
   "source": [
    "### Write a function to check if any string in a list contains more than n letters."
   ]
  },
  {
   "cell_type": "code",
   "execution_count": null,
   "metadata": {},
   "outputs": [],
   "source": []
  },
  {
   "cell_type": "markdown",
   "metadata": {},
   "source": [
    "# 15.5 Questions?"
   ]
  },
  {
   "cell_type": "code",
   "execution_count": null,
   "metadata": {},
   "outputs": [],
   "source": []
  }
 ],
 "metadata": {
  "kernelspec": {
   "display_name": "Python 3",
   "language": "python",
   "name": "python3"
  },
  "language_info": {
   "codemirror_mode": {
    "name": "ipython",
    "version": 3
   },
   "file_extension": ".py",
   "mimetype": "text/x-python",
   "name": "python",
   "nbconvert_exporter": "python",
   "pygments_lexer": "ipython3",
   "version": "3.8.3"
  }
 },
 "nbformat": 4,
 "nbformat_minor": 4
}
