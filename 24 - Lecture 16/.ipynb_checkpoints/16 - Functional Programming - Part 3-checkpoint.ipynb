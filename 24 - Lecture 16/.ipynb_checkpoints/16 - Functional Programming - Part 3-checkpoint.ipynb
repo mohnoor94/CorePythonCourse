{
 "cells": [
  {
   "cell_type": "markdown",
   "metadata": {},
   "source": [
    "# 16.1 `sum` Function"
   ]
  },
  {
   "cell_type": "code",
   "execution_count": 1,
   "metadata": {},
   "outputs": [
    {
     "name": "stdout",
     "output_type": "stream",
     "text": [
      "[10, 20, 30, 40, 50]\n",
      "150\n"
     ]
    }
   ],
   "source": [
    "numbers = [10, 20, 30, 40, 50]\n",
    "summation = sum(numbers)\n",
    "\n",
    "print(numbers)\n",
    "print(summation)"
   ]
  },
  {
   "cell_type": "code",
   "execution_count": 2,
   "metadata": {},
   "outputs": [
    {
     "name": "stdout",
     "output_type": "stream",
     "text": [
      "[10, 20, 30, 40, 50]\n",
      "250\n"
     ]
    }
   ],
   "source": [
    "numbers = [10, 20, 30, 40, 50]\n",
    "summation = sum(numbers, start= 100)\n",
    "\n",
    "print(numbers)\n",
    "print(summation)"
   ]
  },
  {
   "cell_type": "code",
   "execution_count": 3,
   "metadata": {},
   "outputs": [
    {
     "name": "stdout",
     "output_type": "stream",
     "text": [
      "[]\n",
      "0\n"
     ]
    }
   ],
   "source": [
    "numbers = []\n",
    "summation = sum(numbers)\n",
    "\n",
    "print(numbers)\n",
    "print(summation)"
   ]
  },
  {
   "cell_type": "code",
   "execution_count": 4,
   "metadata": {},
   "outputs": [
    {
     "name": "stdout",
     "output_type": "stream",
     "text": [
      "[]\n",
      "100\n"
     ]
    }
   ],
   "source": [
    "numbers = []\n",
    "summation = sum(numbers, start= 100)\n",
    "\n",
    "print(numbers)\n",
    "print(summation)"
   ]
  },
  {
   "cell_type": "markdown",
   "metadata": {},
   "source": [
    "### Write a function to find the summation of all even numbers in a list."
   ]
  },
  {
   "cell_type": "code",
   "execution_count": 5,
   "metadata": {},
   "outputs": [
    {
     "data": {
      "text/plain": [
       "60"
      ]
     },
     "execution_count": 5,
     "metadata": {},
     "output_type": "execute_result"
    }
   ],
   "source": [
    "def add_all_even(numbers):\n",
    "    return sum(filter(lambda n: n%2 == 0, numbers))\n",
    "\n",
    "numbers = [10, 15, 20, 25, 30]\n",
    "add_all_even(numbers)"
   ]
  },
  {
   "cell_type": "markdown",
   "metadata": {},
   "source": [
    "### Write a function to find the summation of all numbers at even positions in a list."
   ]
  },
  {
   "cell_type": "code",
   "execution_count": 11,
   "metadata": {},
   "outputs": [
    {
     "data": {
      "text/plain": [
       "75"
      ]
     },
     "execution_count": 11,
     "metadata": {},
     "output_type": "execute_result"
    }
   ],
   "source": [
    "# def add_even_indexes(numbers):\n",
    "#     return sum(map(lambda n: n[1], filter(lambda t: t[0]%2==0, enumerate(numbers))))\n",
    "\n",
    "def add_even_indexes(numbers):\n",
    "    return sum(numbers[::2])\n",
    "\n",
    "numbers = [10, 20, 25, 35, 40]\n",
    "add_even_indexes(numbers)"
   ]
  },
  {
   "cell_type": "markdown",
   "metadata": {},
   "source": [
    "### Write a function to find the summation of all strings' length in a list."
   ]
  },
  {
   "cell_type": "code",
   "execution_count": 12,
   "metadata": {},
   "outputs": [
    {
     "data": {
      "text/plain": [
       "35"
      ]
     },
     "execution_count": 12,
     "metadata": {},
     "output_type": "execute_result"
    }
   ],
   "source": [
    "def add_strings_length(strings):\n",
    "    return sum(map(lambda s: len(s), strings))\n",
    "\n",
    "strings = ['Hello', 'hi', 'world', 'something', 'ok', 'whatever', 'bye!']\n",
    "add_strings_length(strings)"
   ]
  },
  {
   "cell_type": "markdown",
   "metadata": {},
   "source": [
    "# 16.2 `max` Function"
   ]
  },
  {
   "cell_type": "code",
   "execution_count": 13,
   "metadata": {},
   "outputs": [
    {
     "name": "stdout",
     "output_type": "stream",
     "text": [
      "[10, 50, 20, 40, 30]\n",
      "50\n"
     ]
    }
   ],
   "source": [
    "numbers = [10, 50, 20, 40, 30]\n",
    "max_num = max(numbers)\n",
    "\n",
    "print(numbers)\n",
    "print(max_num)"
   ]
  },
  {
   "cell_type": "code",
   "execution_count": 14,
   "metadata": {},
   "outputs": [
    {
     "name": "stdout",
     "output_type": "stream",
     "text": [
      "20\n",
      "30\n",
      "40\n"
     ]
    }
   ],
   "source": [
    "print(max(20, 10))\n",
    "print(max(20, 10, 30))\n",
    "print(max(20, 10, 40, 30))"
   ]
  },
  {
   "cell_type": "code",
   "execution_count": 15,
   "metadata": {},
   "outputs": [],
   "source": [
    "?max"
   ]
  },
  {
   "cell_type": "code",
   "execution_count": 16,
   "metadata": {},
   "outputs": [
    {
     "name": "stdout",
     "output_type": "stream",
     "text": [
      "['Hello', 'hi', 'world', 'something', 'ok', 'whatever', 'bye!']\n",
      "world\n"
     ]
    }
   ],
   "source": [
    "strings = ['Hello', 'hi', 'world', 'something', 'ok', 'whatever', 'bye!']\n",
    "max_string = max(strings)\n",
    "\n",
    "print(strings)\n",
    "print(max_string)  # ??"
   ]
  },
  {
   "cell_type": "markdown",
   "metadata": {},
   "source": [
    "### Write a function to find the longest string in a list."
   ]
  },
  {
   "cell_type": "code",
   "execution_count": 19,
   "metadata": {},
   "outputs": [
    {
     "name": "stdout",
     "output_type": "stream",
     "text": [
      "[('Hello', 5), ('hi', 2), ('world', 5), ('something', 9), ('ok', 2), ('whatever', 8), ('bye!', 4)]\n"
     ]
    }
   ],
   "source": [
    "def longest_string(strings):\n",
    "    strings_length = map(lambda s: (s, len(s)), strings)\n",
    "    print(list(strings_length))\n",
    "    return max()\n",
    "\n",
    "strings = ['Hello', 'hi', 'world', 'something', 'ok', 'whatever', 'bye!']  # you should return 'something'\n",
    "longest_string(strings)"
   ]
  },
  {
   "cell_type": "markdown",
   "metadata": {},
   "source": [
    "### Write  a function that receives a dictionary of studnet marks in different subjects and return the subject in which the student got the highest mark."
   ]
  },
  {
   "cell_type": "code",
   "execution_count": null,
   "metadata": {},
   "outputs": [],
   "source": [
    "marks = {\n",
    "    'English': 90,\n",
    "    'Arabic': 85,\n",
    "    'Math': 95,\n",
    "    'Computer Skills': 88,\n",
    "    'Physics': 79,\n",
    "} # you should return 'Math'\n",
    "\n"
   ]
  },
  {
   "cell_type": "markdown",
   "metadata": {},
   "source": [
    "# 16.3 `min` Function"
   ]
  },
  {
   "cell_type": "code",
   "execution_count": null,
   "metadata": {},
   "outputs": [],
   "source": [
    "numbers = [80, 10, 50, 5, 20, 40, 30]\n",
    "min_num = min(numbers)\n",
    "\n",
    "print(numbers)\n",
    "print(min_num)"
   ]
  },
  {
   "cell_type": "code",
   "execution_count": null,
   "metadata": {},
   "outputs": [],
   "source": [
    "print(min(20, 10))\n",
    "print(min(20, 10, 30))\n",
    "print(min(20, 10, 40, 30))"
   ]
  },
  {
   "cell_type": "code",
   "execution_count": null,
   "metadata": {},
   "outputs": [],
   "source": [
    "strings = ['Hello', 'hi', 'world', 'something', 'ok', 'whatever', 'bye!']\n",
    "min_string = min(strings)\n",
    "\n",
    "print(strings)\n",
    "print(min_string)  # ??"
   ]
  },
  {
   "cell_type": "markdown",
   "metadata": {},
   "source": [
    "### Write a function to find the shortest string in a list."
   ]
  },
  {
   "cell_type": "code",
   "execution_count": null,
   "metadata": {},
   "outputs": [],
   "source": [
    "strings = ['Hello', 'hi', 'world', 'something', 'ok', 'whatever', 'bye!']  # you should return 'hi' or 'ok'\n"
   ]
  },
  {
   "cell_type": "markdown",
   "metadata": {},
   "source": [
    "# 16.4 `zip` Function"
   ]
  },
  {
   "cell_type": "code",
   "execution_count": null,
   "metadata": {},
   "outputs": [],
   "source": [
    "names = ['Ali', 'Noor', 'Ria', 'Sally']\n",
    "marks = [80, 97, 78, 93]\n",
    "\n",
    "print(zip(names, marks))"
   ]
  },
  {
   "cell_type": "code",
   "execution_count": null,
   "metadata": {},
   "outputs": [],
   "source": [
    "print(list(zip(names, marks)))"
   ]
  },
  {
   "cell_type": "code",
   "execution_count": null,
   "metadata": {},
   "outputs": [],
   "source": [
    "print(set(zip(names, marks)))"
   ]
  },
  {
   "cell_type": "code",
   "execution_count": null,
   "metadata": {},
   "outputs": [],
   "source": [
    "print(dict(zip(names, marks)))"
   ]
  },
  {
   "cell_type": "code",
   "execution_count": null,
   "metadata": {},
   "outputs": [],
   "source": [
    "numbers = [10, 50, 20, 40, 30]\n",
    "\n",
    "print(list(zip(range(len(numbers)), numbers)))"
   ]
  },
  {
   "cell_type": "code",
   "execution_count": null,
   "metadata": {},
   "outputs": [],
   "source": [
    "print(list(enumerate(numbers)))"
   ]
  },
  {
   "cell_type": "code",
   "execution_count": null,
   "metadata": {},
   "outputs": [],
   "source": [
    "list(zip(range(len(numbers)), numbers)) == list(enumerate(numbers))"
   ]
  },
  {
   "cell_type": "code",
   "execution_count": null,
   "metadata": {},
   "outputs": [],
   "source": [
    "list(zip([1, 2, 3], [4, 5, 6]))"
   ]
  },
  {
   "cell_type": "code",
   "execution_count": null,
   "metadata": {},
   "outputs": [],
   "source": [
    "list(zip([1, 2], [4, 5, 6]))"
   ]
  },
  {
   "cell_type": "code",
   "execution_count": null,
   "metadata": {},
   "outputs": [],
   "source": [
    "list(zip([1, 2, 3], [4, 5]))"
   ]
  },
  {
   "cell_type": "code",
   "execution_count": null,
   "metadata": {},
   "outputs": [],
   "source": [
    "strings = ['Hello', 'hi', 'world', 'something', 'ok', 'whatever', 'bye!']\n",
    "\n",
    "list(zip(strings, map(lambda s: len(s), strings)))"
   ]
  },
  {
   "cell_type": "code",
   "execution_count": null,
   "metadata": {},
   "outputs": [],
   "source": [
    "dict(list(zip(strings, map(lambda s: len(s), strings))))"
   ]
  },
  {
   "cell_type": "markdown",
   "metadata": {},
   "source": [
    "# 16.5 Questions?"
   ]
  },
  {
   "cell_type": "code",
   "execution_count": null,
   "metadata": {},
   "outputs": [],
   "source": []
  }
 ],
 "metadata": {
  "kernelspec": {
   "display_name": "Python 3",
   "language": "python",
   "name": "python3"
  },
  "language_info": {
   "codemirror_mode": {
    "name": "ipython",
    "version": 3
   },
   "file_extension": ".py",
   "mimetype": "text/x-python",
   "name": "python",
   "nbconvert_exporter": "python",
   "pygments_lexer": "ipython3",
   "version": "3.8.3"
  }
 },
 "nbformat": 4,
 "nbformat_minor": 4
}
