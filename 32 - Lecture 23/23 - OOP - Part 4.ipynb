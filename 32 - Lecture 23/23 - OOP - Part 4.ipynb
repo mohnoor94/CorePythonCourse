{
 "cells": [
  {
   "cell_type": "markdown",
   "metadata": {},
   "source": [
    "# OOP - Encapsulation"
   ]
  },
  {
   "cell_type": "markdown",
   "metadata": {},
   "source": [
    "# 23.1 Introduction"
   ]
  },
  {
   "cell_type": "markdown",
   "metadata": {},
   "source": [
    "- Encapsulation is one of the fundamental concepts in object-oriented programming (OOP).\n",
    "- It describes the idea of wrapping data and the methods that work on data within one unit.\n",
    "- This puts restrictions on accessing variables and methods directly and can prevent the accidental modification of data.\n",
    "- To prevent accidental change, **an object’s variable can only be changed by an object’s method**.\n",
    "- Those types of variables are known as **private variables**. \n",
    "- A class is an example of encapsulation as it encapsulates all the data that is member functions, variables, etc.\n",
    "\n",
    "\n",
    "---\n",
    "Read more [here](https://www.geeksforgeeks.org/encapsulation-in-python/)."
   ]
  },
  {
   "cell_type": "markdown",
   "metadata": {},
   "source": [
    "# 23.2 Hide Data with Private Members"
   ]
  },
  {
   "cell_type": "code",
   "execution_count": null,
   "metadata": {},
   "outputs": [],
   "source": [
    "import datetime\n",
    "\n",
    "class Person:\n",
    "    def __init__(self, id_number, first_name, last_name, birth_year):\n",
    "        self.__id = id_number  # private member\n",
    "        self.__fname = first_name  # private member\n",
    "        self.__lname = last_name  # private member\n",
    "        self.__birth_year = birth_year  # private member\n",
    "        \n",
    "    def get_name(self):\n",
    "        return f\"{self.__lname}, {self.__fname}\"\n",
    "    \n",
    "    def can_vote(self):\n",
    "        return datetime.datetime.now().year - self.__birth_year >= 18\n",
    "    \n",
    "    def set_first_name(self, first_name):\n",
    "        if len(first_name) < 3:\n",
    "            print(\"The new name should be at leats 3 letters long!\")\n",
    "        elif first_name == self.__fname:\n",
    "            print(\"The new name should be deffirent from the old name!\")\n",
    "        else:\n",
    "            self.__fname = first_name\n",
    "            print(\"First name updated!\")"
   ]
  },
  {
   "cell_type": "code",
   "execution_count": null,
   "metadata": {},
   "outputs": [],
   "source": [
    "noor = Person('1234567890', 'Noor', 'Abu Khleif', 1994)"
   ]
  },
  {
   "cell_type": "code",
   "execution_count": null,
   "metadata": {},
   "outputs": [],
   "source": [
    "noor.__id  # ??"
   ]
  },
  {
   "cell_type": "code",
   "execution_count": null,
   "metadata": {},
   "outputs": [],
   "source": [
    "noor.__fname  # ??"
   ]
  },
  {
   "cell_type": "code",
   "execution_count": null,
   "metadata": {},
   "outputs": [],
   "source": [
    "noor.get_name()"
   ]
  },
  {
   "cell_type": "code",
   "execution_count": null,
   "metadata": {},
   "outputs": [],
   "source": [
    "noor.set_first_name('Mohammad Noor')"
   ]
  },
  {
   "cell_type": "code",
   "execution_count": null,
   "metadata": {},
   "outputs": [],
   "source": [
    "noor.get_name()"
   ]
  },
  {
   "cell_type": "code",
   "execution_count": null,
   "metadata": {},
   "outputs": [],
   "source": [
    "noor.set_first_name('N')"
   ]
  },
  {
   "cell_type": "code",
   "execution_count": null,
   "metadata": {},
   "outputs": [],
   "source": [
    "noor.get_name()"
   ]
  },
  {
   "cell_type": "code",
   "execution_count": null,
   "metadata": {},
   "outputs": [],
   "source": [
    "noor.can_vote()"
   ]
  },
  {
   "cell_type": "code",
   "execution_count": null,
   "metadata": {},
   "outputs": [],
   "source": [
    "leen = Person ('1234', 'Leen', 'Ahmad', 2010)"
   ]
  },
  {
   "cell_type": "code",
   "execution_count": null,
   "metadata": {},
   "outputs": [],
   "source": [
    "leen.can_vote()"
   ]
  },
  {
   "cell_type": "markdown",
   "metadata": {},
   "source": [
    "# 23.3 Hide Data with Protected Members"
   ]
  },
  {
   "cell_type": "code",
   "execution_count": null,
   "metadata": {},
   "outputs": [],
   "source": [
    "class Employee(Person):\n",
    "    MAX_SALARY = 5000\n",
    "    def __init__(self, id_number, first_name, last_name, birth_year, salary):\n",
    "        super().__init__(id_number, first_name, last_name, birth_year)\n",
    "        self.__salary = salary\n",
    "        \n",
    "    def increase_salary(self, percentage):\n",
    "        if not 0 < percentage <= 100:\n",
    "            print('Percentage should be in the range (0, 100]')\n",
    "            return None\n",
    "        new_salary = self.__salary + percentage/100 * self.__salary\n",
    "        self.__salary = min(new_salary, Employee.MAX_SALARY)\n",
    "        print('Salary could be updated')\n",
    "        \n",
    "    def get_salary_level(self):\n",
    "        if self.__salary > 2500:\n",
    "            return 'A'\n",
    "        elif self.__salary > 1000:\n",
    "            return 'B'\n",
    "        elif self.__salary > 400:\n",
    "            return 'C'\n",
    "        return 'D'\n",
    "    \n",
    "    def set_last_name(self, last_name):\n",
    "        super().__lname = last_name # ??\n",
    "        ## self.__lname = last_name  # ??"
   ]
  },
  {
   "cell_type": "code",
   "execution_count": null,
   "metadata": {},
   "outputs": [],
   "source": [
    "amer = Employee('123987', 'Amer', 'Abbas', 1980, 2000)"
   ]
  },
  {
   "cell_type": "code",
   "execution_count": null,
   "metadata": {},
   "outputs": [],
   "source": [
    "amer.get_name()"
   ]
  },
  {
   "cell_type": "code",
   "execution_count": null,
   "metadata": {},
   "outputs": [],
   "source": [
    "amer.get_salary_level()"
   ]
  },
  {
   "cell_type": "code",
   "execution_count": null,
   "metadata": {},
   "outputs": [],
   "source": [
    "amer.set_last_name('Emran') # ??"
   ]
  },
  {
   "cell_type": "code",
   "execution_count": null,
   "metadata": {},
   "outputs": [],
   "source": [
    "amer.get_name()  # ??"
   ]
  },
  {
   "cell_type": "code",
   "execution_count": null,
   "metadata": {},
   "outputs": [],
   "source": [
    "import datetime\n",
    "\n",
    "class Person:\n",
    "    def __init__(self, id_number, first_name, last_name, birth_year):\n",
    "        self.__id = id_number\n",
    "        self.__fname = first_name\n",
    "        self._lname = last_name  # protected (weak-private) member\n",
    "        self.__birth_year = birth_year\n",
    "        \n",
    "    def get_name(self):\n",
    "        return f\"{self._lname}, {self.__fname}\"\n",
    "    \n",
    "    def can_vote(self):\n",
    "        return datetime.datetime.now().year - self.__birth_year >= 18\n",
    "    \n",
    "    def set_first_name(self, first_name):\n",
    "        if len(first_name) < 3:\n",
    "            print(\"The new name should be at leats 3 letters long!\")\n",
    "        elif first_name == self.__fname:\n",
    "            print(\"The new name should be deffirent from the old name!\")\n",
    "        else:\n",
    "            self.__fname = first_name\n",
    "            print(\"First name updated!\")\n",
    "            \n",
    "            \n",
    "class Employee(Person):\n",
    "    MAX_SALARY = 5000\n",
    "    \n",
    "    def __init__(self, id_number, first_name, last_name, birth_year, salary):\n",
    "        super().__init__(id_number, first_name, last_name, birth_year)\n",
    "        self.__salary = salary\n",
    "        \n",
    "    def increase_salary(self, percentage):\n",
    "        if not 0 < percentage <= 100:\n",
    "            print('Percentage should be in the range (0, 100]')\n",
    "            return None\n",
    "        new_salary = self.__salary + percentage/100 * self.__salary\n",
    "        self.__salary = min(new_salary, Employee.MAX_SALARY)\n",
    "        #print(f\"the new salary is {self.__salary}, hush, it's a secret!!\")\n",
    "        print('Salary could be updated')\n",
    "        \n",
    "    def get_salary_level(self):\n",
    "        if self.__salary > 2500:\n",
    "            return 'A'\n",
    "        elif self.__salary > 1000:\n",
    "            return 'B'\n",
    "        elif self.__salary > 400:\n",
    "            return 'C'\n",
    "        return 'D'\n",
    "    \n",
    "    def set_last_name(self, last_name):\n",
    "        self._lname = last_name  # ??"
   ]
  },
  {
   "cell_type": "code",
   "execution_count": null,
   "metadata": {},
   "outputs": [],
   "source": [
    "amer = Employee('123987', 'Amer', 'Abbas', 1980, 2000)"
   ]
  },
  {
   "cell_type": "code",
   "execution_count": null,
   "metadata": {},
   "outputs": [],
   "source": [
    "amer.get_name()"
   ]
  },
  {
   "cell_type": "code",
   "execution_count": null,
   "metadata": {},
   "outputs": [],
   "source": [
    "amer.get_salary_level()"
   ]
  },
  {
   "cell_type": "code",
   "execution_count": null,
   "metadata": {},
   "outputs": [],
   "source": [
    "amer.set_last_name('Emran')"
   ]
  },
  {
   "cell_type": "code",
   "execution_count": null,
   "metadata": {},
   "outputs": [],
   "source": [
    "amer.get_name()"
   ]
  },
  {
   "cell_type": "code",
   "execution_count": null,
   "metadata": {},
   "outputs": [],
   "source": [
    "amer.increase_salary(50)"
   ]
  },
  {
   "cell_type": "code",
   "execution_count": null,
   "metadata": {},
   "outputs": [],
   "source": [
    "amer.get_salary_level()"
   ]
  },
  {
   "cell_type": "code",
   "execution_count": null,
   "metadata": {},
   "outputs": [],
   "source": [
    "amer.increase_salary(150)"
   ]
  },
  {
   "cell_type": "code",
   "execution_count": null,
   "metadata": {},
   "outputs": [],
   "source": [
    "amer.increase_salary(100)\n",
    "amer.increase_salary(100)"
   ]
  },
  {
   "cell_type": "code",
   "execution_count": null,
   "metadata": {},
   "outputs": [],
   "source": [
    "amer.get_salary_level()"
   ]
  },
  {
   "cell_type": "code",
   "execution_count": null,
   "metadata": {},
   "outputs": [],
   "source": [
    "amer.__fname"
   ]
  },
  {
   "cell_type": "code",
   "execution_count": null,
   "metadata": {},
   "outputs": [],
   "source": [
    "amer._lname  # ??"
   ]
  },
  {
   "cell_type": "code",
   "execution_count": null,
   "metadata": {},
   "outputs": [],
   "source": [
    "amer._Person__birth_year  # ??"
   ]
  },
  {
   "cell_type": "code",
   "execution_count": null,
   "metadata": {},
   "outputs": [],
   "source": [
    "amer._Person__id  # ??"
   ]
  },
  {
   "cell_type": "code",
   "execution_count": null,
   "metadata": {},
   "outputs": [],
   "source": [
    "amer._Employee__salary  # ??"
   ]
  },
  {
   "cell_type": "code",
   "execution_count": null,
   "metadata": {},
   "outputs": [],
   "source": [
    "noor._Person__fname = 'Ali'  # ??"
   ]
  },
  {
   "cell_type": "code",
   "execution_count": null,
   "metadata": {},
   "outputs": [],
   "source": [
    "noor.get_name() # ??"
   ]
  },
  {
   "cell_type": "markdown",
   "metadata": {},
   "source": [
    "Read more about [Python name mangling](https://www.geeksforgeeks.org/private-variables-python/)."
   ]
  },
  {
   "cell_type": "markdown",
   "metadata": {},
   "source": [
    "---"
   ]
  },
  {
   "cell_type": "markdown",
   "metadata": {},
   "source": [
    "# 23.4 Questions?"
   ]
  },
  {
   "cell_type": "code",
   "execution_count": null,
   "metadata": {},
   "outputs": [],
   "source": []
  }
 ],
 "metadata": {
  "kernelspec": {
   "display_name": "Python 3",
   "language": "python",
   "name": "python3"
  },
  "language_info": {
   "codemirror_mode": {
    "name": "ipython",
    "version": 3
   },
   "file_extension": ".py",
   "mimetype": "text/x-python",
   "name": "python",
   "nbconvert_exporter": "python",
   "pygments_lexer": "ipython3",
   "version": "3.8.3"
  }
 },
 "nbformat": 4,
 "nbformat_minor": 4
}
