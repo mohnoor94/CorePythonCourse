{
 "cells": [
  {
   "cell_type": "markdown",
   "metadata": {},
   "source": [
    "# Welcome Aboard"
   ]
  },
  {
   "cell_type": "markdown",
   "metadata": {},
   "source": [
    "## Meet Your Instructor "
   ]
  },
  {
   "cell_type": "code",
   "execution_count": null,
   "metadata": {},
   "outputs": [],
   "source": [
    "from datetime import date\n",
    "from dateutil.relativedelta import relativedelta\n",
    "from IPython.display import Image"
   ]
  },
  {
   "cell_type": "code",
   "execution_count": null,
   "metadata": {},
   "outputs": [],
   "source": [
    "name = \"'Mohammad Noor' Abu Khleif\"\n",
    "image = '../attachments/noor.jpg'\n",
    "website = 'http://www.abukhleif.com'\n",
    "university = 'University of Jordan'\n",
    "major = 'Computer Engineer'\n",
    "job_title = 'Software Development Engineer'\n",
    "\n",
    "experience_time = relativedelta(date.today(), date(2017, 6, 9))\n",
    "companies = ['Samsung', 'Atypon', 'Amazon']\n",
    "location = 'Amman, Jordan'\n",
    "email = 'moh.noor94@gmail.com'\n",
    "links = {\n",
    "    'Twitter' : 'https://twitter.com/moh_noor94',\n",
    "    'Facebook': 'https://web.facebook.com/moh.noor94',\n",
    "    'LinkedIn': 'https://www.linkedin.com/in/mohnoor94',\n",
    "    'GitHub'  : 'https://github.com/mohnoor94'\n",
    "}"
   ]
  },
  {
   "cell_type": "code",
   "execution_count": null,
   "metadata": {},
   "outputs": [],
   "source": [
    "f\"Hey, I'm {name}, I graduated from {university} as a {major}, I'm currently working as a {job_title} at {companies[-1]}. I worked and/or got trained before on other companies like {' and '.join(companies[:-1])}.\""
   ]
  },
  {
   "cell_type": "code",
   "execution_count": null,
   "metadata": {},
   "outputs": [],
   "source": [
    "f\"My total work experience is {experience_time.years} years, {experience_time.months} months, and {experience_time.days} days.\""
   ]
  },
  {
   "cell_type": "code",
   "execution_count": null,
   "metadata": {},
   "outputs": [],
   "source": [
    "f\"btw, I live in {location}.\""
   ]
  },
  {
   "cell_type": "code",
   "execution_count": null,
   "metadata": {},
   "outputs": [],
   "source": [
    "f\"You can reach me any time via email: {email}, or by visiting my website: {website}\" "
   ]
  },
  {
   "cell_type": "code",
   "execution_count": null,
   "metadata": {},
   "outputs": [],
   "source": [
    "print(f\"I'm available on social media as well: \")\n",
    "\n",
    "for platform, link in links.items():\n",
    "    print(f\"\\t- {platform:8}: {link}\")"
   ]
  },
  {
   "cell_type": "code",
   "execution_count": null,
   "metadata": {},
   "outputs": [],
   "source": [
    "print(f\"Ah, one last thing! this is me:\")\n",
    "\n",
    "display(Image(filename=image))"
   ]
  },
  {
   "cell_type": "code",
   "execution_count": null,
   "metadata": {},
   "outputs": [],
   "source": [
    "\"=\" * 100"
   ]
  },
  {
   "cell_type": "markdown",
   "metadata": {},
   "source": [
    "# Welcome to `Python` 3\n",
    "\n",
    "In this course, you will study the core of `Python` 3 Programming Language so that you can continue your journey in any other advanced fields easily.\n",
    "\n",
    "`Python` will help you to become:\n",
    "- A Software Engineer\n",
    "- A Python Developer\n",
    "- A Data Scientist\n",
    "- A Data Analyst\n",
    "- A Machine Learning Engineer\n",
    "- A Data Engineer\n",
    "- A Data Journalist\n",
    "- An Educator!\n",
    "- A Financial Advisor!\n",
    "- A Quality Assurance Engineer\n",
    "- A Python Full Stack Developer\n",
    "- A Freelancer!\n",
    "... etc!\n",
    "\n",
    "You only need to learn the basics very well, and **I guarntee you that you will get all what you need** then you have unlimited paths to go on and discover!"
   ]
  },
  {
   "cell_type": "code",
   "execution_count": null,
   "metadata": {},
   "outputs": [],
   "source": [
    "\"=\" * 100"
   ]
  },
  {
   "cell_type": "markdown",
   "metadata": {},
   "source": [
    "## Let's Start"
   ]
  },
  {
   "cell_type": "markdown",
   "metadata": {},
   "source": [
    "1. [Download and Install Python](https://www.python.org/)\n",
    "1. [Download and PyCharm](https://www.jetbrains.com/pycharm/) (or any text editor like [VisualStudio Code](https://code.visualstudio.com/) or [Atom](https://atom.io/)).\n",
    "1. *Optional*: [Download and Install Pip](https://pypi.org/project/pip/)\n",
    "1. **Important**: [Download and Install Anaconda](https://www.anaconda.com/products/individual), we will use Anaconda and Jupyter Notebook during this course, Jupyter Notebook is included in Anaconda."
   ]
  },
  {
   "cell_type": "markdown",
   "metadata": {},
   "source": [
    "### You are ready to start, yohoo!"
   ]
  }
 ],
 "metadata": {
  "kernelspec": {
   "display_name": "Python 3",
   "language": "python",
   "name": "python3"
  },
  "language_info": {
   "codemirror_mode": {
    "name": "ipython",
    "version": 3
   },
   "file_extension": ".py",
   "mimetype": "text/x-python",
   "name": "python",
   "nbconvert_exporter": "python",
   "pygments_lexer": "ipython3",
   "version": "3.8.3"
  }
 },
 "nbformat": 4,
 "nbformat_minor": 4
}