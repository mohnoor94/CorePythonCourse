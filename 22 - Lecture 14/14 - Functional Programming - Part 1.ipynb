{
 "cells": [
  {
   "cell_type": "markdown",
   "metadata": {},
   "source": [
    "# 14.1 What is Functional Programming (FP)?\n",
    "\n",
    "- Functional Programming use functions as the fundamental building block for constructing software.\n",
    "- FP prefers pure functions."
   ]
  },
  {
   "cell_type": "markdown",
   "metadata": {},
   "source": [
    "# 14.2 Pure Functions\n",
    "\n",
    "- A pure function is a function that calculates a result without any side effects, or any possibility of an unexpected result."
   ]
  },
  {
   "cell_type": "code",
   "execution_count": null,
   "metadata": {},
   "outputs": [],
   "source": [
    "#\n",
    "def remove_last_item(mylist):\n",
    "    \"\"\"Removes the last item from a list.\"\"\"\n",
    "    mylist.pop(-1)  # This modifies mylist"
   ]
  },
  {
   "cell_type": "code",
   "execution_count": null,
   "metadata": {},
   "outputs": [],
   "source": [
    "numbers = [1, 2, 3, 4]\n",
    "print(numbers)\n",
    "\n",
    "remove_last_item(numbers)\n",
    "print(numbers)"
   ]
  },
  {
   "cell_type": "code",
   "execution_count": null,
   "metadata": {},
   "outputs": [],
   "source": [
    "#\n",
    "def butlast(mylist):\n",
    "    \"\"\"Like butlast in Lisp; returns the list without the last element.\"\"\"\n",
    "    return mylist[:-1]  # This returns a copy of mylist"
   ]
  },
  {
   "cell_type": "code",
   "execution_count": null,
   "metadata": {},
   "outputs": [],
   "source": [
    "numbers = [1, 2, 3, 4]\n",
    "print(numbers)\n",
    "\n",
    "print(butlast(numbers))\n",
    "print(numbers)"
   ]
  },
  {
   "cell_type": "markdown",
   "metadata": {},
   "source": [
    "# 14.3 Lambda Functions\n",
    "\n",
    "- A short way of writing unnamed functions!\n",
    "- Lambdas can only contain a single Python expression. If your function cannot be expressed in one line, you can’t use a lambda."
   ]
  },
  {
   "cell_type": "code",
   "execution_count": null,
   "metadata": {},
   "outputs": [],
   "source": [
    "duplicate = lambda x: x * 2\n",
    "\n",
    "print(duplicate(2))\n",
    "print(duplicate(10))\n",
    "print(duplicate(9))"
   ]
  },
  {
   "cell_type": "code",
   "execution_count": null,
   "metadata": {},
   "outputs": [],
   "source": [
    "add = lambda x, y: x + y\n",
    "\n",
    "print(add(10, 5))\n",
    "print(add(20, 7))"
   ]
  },
  {
   "cell_type": "code",
   "execution_count": null,
   "metadata": {},
   "outputs": [],
   "source": [
    "repeat = lambda s, x: s * x\n",
    "\n",
    "print(repeat('Hi ', 10))\n",
    "print(repeat('Bye ', 20))"
   ]
  },
  {
   "cell_type": "markdown",
   "metadata": {},
   "source": [
    "# 14.4 Python Functional Functions: `map`"
   ]
  },
  {
   "cell_type": "markdown",
   "metadata": {},
   "source": [
    "### Duplicate all values in a list of numbers"
   ]
  },
  {
   "cell_type": "code",
   "execution_count": null,
   "metadata": {},
   "outputs": [],
   "source": [
    "#\n",
    "numbers = [10, 20, 30, 40, 50]\n",
    "duplicated_numbers = []\n",
    "\n",
    "for n in numbers:\n",
    "    duplicated_numbers.append(n * 2)\n",
    "    \n",
    "print(numbers)\n",
    "print(duplicated_numbers)"
   ]
  },
  {
   "cell_type": "code",
   "execution_count": null,
   "metadata": {},
   "outputs": [],
   "source": [
    "#\n",
    "\n",
    "def duplicated_number(num):\n",
    "    return 2 * num\n",
    "\n",
    "numbers = [10, 20, 30, 40, 50]\n",
    "duplicated_numbers = list(map(duplicated_number, numbers))\n",
    "    \n",
    "print(numbers)\n",
    "print(duplicated_numbers)"
   ]
  },
  {
   "cell_type": "code",
   "execution_count": null,
   "metadata": {},
   "outputs": [],
   "source": [
    "#\n",
    "numbers = [10, 20, 30, 40, 50]\n",
    "duplicated_numbers = list(map(lambda x: x * 2, numbers))\n",
    "    \n",
    "print(numbers)\n",
    "print(duplicated_numbers)"
   ]
  },
  {
   "cell_type": "markdown",
   "metadata": {},
   "source": [
    "### Update all names in a list of tuples of first and last namesto be in a single string of \"last name, first name\"\n",
    "\n",
    "- Example:\n",
    "  - Input: `[('ALi', 'Radwan'), ('Asad', 'Hamdan'), ('Ola', 'Shareef')]`\n",
    "  - Output: `['Radwan, Ali', 'Hamdan, Asad', 'Shareef, Ola']`"
   ]
  },
  {
   "cell_type": "code",
   "execution_count": null,
   "metadata": {},
   "outputs": [],
   "source": [
    "#\n",
    "names =  [('ALi', 'Radwan'), ('Asad', 'Hamdan'), ('Ola', 'Shareef')]\n",
    "updated_names = []\n",
    "\n",
    "for fname, lname in names:\n",
    "    updated_names.append(f'{lname}, {fname}')\n",
    "    \n",
    "print(names)\n",
    "print(updated_names)"
   ]
  },
  {
   "cell_type": "code",
   "execution_count": null,
   "metadata": {},
   "outputs": [],
   "source": [
    "#\n",
    "names =  [('ALi', 'Radwan'), ('Asad', 'Hamdan'), ('Ola', 'Shareef')]\n",
    "updated_names = list(map(lambda x: f'{x[1]}, {x[0]}', names))\n",
    "\n",
    "print(names)\n",
    "print(updated_names)"
   ]
  },
  {
   "cell_type": "markdown",
   "metadata": {},
   "source": [
    "### Update all string in any collection to upper case"
   ]
  },
  {
   "cell_type": "code",
   "execution_count": null,
   "metadata": {},
   "outputs": [],
   "source": [
    "#\n",
    "strings = ('Hi', 'Hello', 'what', 'random?', 'OK')\n",
    "upper_strings = []\n",
    "\n",
    "for s in strings:\n",
    "    upper_strings.append(s.upper())\n",
    "\n",
    "print(strings)\n",
    "print(upper_strings)"
   ]
  },
  {
   "cell_type": "code",
   "execution_count": null,
   "metadata": {},
   "outputs": [],
   "source": [
    "#\n",
    "strings = ('Hi', 'Hello', 'what', 'random?', 'OK')\n",
    "upper_strings = tuple(map(lambda s: s.upper(), strings))\n",
    "\n",
    "print(strings)\n",
    "print(upper_strings)"
   ]
  },
  {
   "cell_type": "markdown",
   "metadata": {},
   "source": [
    "# 14.5 Python Functional Functions: `filter`"
   ]
  },
  {
   "cell_type": "markdown",
   "metadata": {},
   "source": [
    "### Find all even numbers in a list"
   ]
  },
  {
   "cell_type": "code",
   "execution_count": null,
   "metadata": {},
   "outputs": [],
   "source": [
    "#\n",
    "numbers = [1, 2, 3, 4, 5, 6, 7, 8, 9, 10]\n",
    "even_numbers = []\n",
    "\n",
    "for n in numbers:\n",
    "    if n % 2 == 0:\n",
    "        even_numbers.append(n)\n",
    "        \n",
    "print(numbers)\n",
    "print(even_numbers)"
   ]
  },
  {
   "cell_type": "code",
   "execution_count": null,
   "metadata": {},
   "outputs": [],
   "source": [
    "#\n",
    "numbers = [1, 2, 3, 4, 5, 6, 7, 8, 9, 10]\n",
    "even_numbers = list(filter(lambda x: x % 2 == 0, numbers))\n",
    "        \n",
    "print(numbers)\n",
    "print(even_numbers)"
   ]
  },
  {
   "cell_type": "markdown",
   "metadata": {},
   "source": [
    "### Write a function that filters out any name shorter than 3 letters."
   ]
  },
  {
   "cell_type": "code",
   "execution_count": null,
   "metadata": {},
   "outputs": [],
   "source": [
    "#\n",
    "def filter_short_names(names):\n",
    "    filtered_names = []\n",
    "    for name in names:\n",
    "        if len(name) >= 3:\n",
    "            filtered_names.append(name)\n",
    "    return filtered_names\n",
    "\n",
    "names = ['Ali', 'Yu', 'Ahmad', 'Nasser', 'Raya', 'Xi']\n",
    "print(names)\n",
    "print(filter_short_names(names))\n",
    "print(names)"
   ]
  },
  {
   "cell_type": "code",
   "execution_count": null,
   "metadata": {},
   "outputs": [],
   "source": [
    "#\n",
    "def filter_short_names(names):\n",
    "    return list(filter(lambda x: len(x) >= 3, names))\n",
    "\n",
    "names = ['Ali', 'Yu', 'Ahmad', 'Nasser', 'Raya', 'Xi']\n",
    "print(names)\n",
    "print(filter_short_names(names))\n",
    "print(names)"
   ]
  },
  {
   "cell_type": "markdown",
   "metadata": {},
   "source": [
    "# 14.6 Questions?"
   ]
  },
  {
   "cell_type": "code",
   "execution_count": null,
   "metadata": {},
   "outputs": [],
   "source": []
  }
 ],
 "metadata": {
  "kernelspec": {
   "display_name": "Python 3",
   "language": "python",
   "name": "python3"
  },
  "language_info": {
   "codemirror_mode": {
    "name": "ipython",
    "version": 3
   },
   "file_extension": ".py",
   "mimetype": "text/x-python",
   "name": "python",
   "nbconvert_exporter": "python",
   "pygments_lexer": "ipython3",
   "version": "3.8.3"
  }
 },
 "nbformat": 4,
 "nbformat_minor": 4
}
