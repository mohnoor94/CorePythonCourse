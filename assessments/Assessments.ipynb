{
 "cells": [
  {
   "cell_type": "code",
   "execution_count": 1,
   "metadata": {},
   "outputs": [],
   "source": [
    "from enum import Enum"
   ]
  },
  {
   "cell_type": "code",
   "execution_count": 2,
   "metadata": {},
   "outputs": [],
   "source": [
    "class QuestionType(Enum):\n",
    "    MULTIPLE_CHOICE = 1\n",
    "    CODE = 2"
   ]
  },
  {
   "cell_type": "code",
   "execution_count": 3,
   "metadata": {},
   "outputs": [],
   "source": [
    "class Question:\n",
    "    def __init__(self, type: QuestionType, question: str, answer: str):\n",
    "        self.type = type\n",
    "        self.question = str(question)\n",
    "        self.answer = str(answer)\n",
    "    \n",
    "    def question(self):\n",
    "        return self.question\n",
    "    \n",
    "    def answer(self):\n",
    "        return self.answer\n",
    "    \n",
    "    def solve(self):\n",
    "        return 'IDK, check the answer yourself!'\n",
    "    \n",
    "    def __str__(self):\n",
    "        return f'Question:: {self.question}'"
   ]
  },
  {
   "cell_type": "code",
   "execution_count": 4,
   "metadata": {},
   "outputs": [],
   "source": [
    "class MultipleChoiceQuestion(Question):\n",
    "    def __init__(self, question: str, answer: str, options: [str]):\n",
    "        super().__init__(QuestionType.MULTIPLE_CHOICE, question, chr(answer+97))\n",
    "        self.options = self.__options_dict(options)\n",
    "        \n",
    "    def options(self):\n",
    "        return options\n",
    "    \n",
    "    def solve(self):\n",
    "        answer = input('Enter your answer: ')\n",
    "        return self.answer == answer.lower()\n",
    "    \n",
    "    def __options_dict(self, options):\n",
    "        return {chr(i+97): str(v) for i, v in enumerate(options)}\n",
    "    \n",
    "    def __options_text(self):\n",
    "        options = map(lambda op: f'\\t>> {op}: {self.options[op]}', self.options)\n",
    "        return '\\n'.join(options)\n",
    "    \n",
    "    def __str__(self):\n",
    "        return f\"Question:: {self.question}\\n\\nOptions ::\\n{self.__options_text()}\\n\""
   ]
  },
  {
   "cell_type": "code",
   "execution_count": 5,
   "metadata": {},
   "outputs": [],
   "source": [
    "class TrueFalseQuestion(MultipleChoiceQuestion):\n",
    "    def __init__(self, question: str, answer:bool):\n",
    "        super().__init__(question, (0 if answer else 1), ['True', 'False'])"
   ]
  },
  {
   "cell_type": "code",
   "execution_count": 6,
   "metadata": {},
   "outputs": [],
   "source": [
    "class CodeQuestion(Question):\n",
    "    def __init__(self, question: str, answer: str):\n",
    "        super().__init__(QuestionType.CODE, question, answer)"
   ]
  },
  {
   "cell_type": "code",
   "execution_count": 7,
   "metadata": {},
   "outputs": [],
   "source": [
    "class Assesment:\n",
    "    def __init__(self, chapter:int, number: int, questions:[Question]):\n",
    "        self.chapter = chapter\n",
    "        self.number = number\n",
    "        self.questions = questions\n",
    "    \n",
    "    def start(self):\n",
    "        pass\n",
    "        \n",
    "    def __str__(self):\n",
    "        return f'Assesment::\\n\\t- Chapter [{self.chapter}] Quiz [{self.number}]\\n\\t- [{len(self.questions)}] Questions'"
   ]
  },
  {
   "cell_type": "code",
   "execution_count": 8,
   "metadata": {},
   "outputs": [],
   "source": [
    "class Quiz(Assesment):\n",
    "    def __init__(self, chapter:int, number:int, questions:[MultipleChoiceQuestion]):\n",
    "        super().__init__(chapter, number, questions)\n",
    "    \n",
    "    def start(self):\n",
    "        for question in self.questions:\n",
    "            print(question)\n",
    "            result = question.solve()\n",
    "            print (result)\n",
    "            while not result:\n",
    "                result = question.solve()\n",
    "                print(result)\n",
    "            print()\n",
    "            print(\"=\" * 100)\n",
    "            print()\n",
    "        \n",
    "    def __str__(self):\n",
    "        return f'Quiz::\\n\\t- Chapter [{self.chapter}] Quiz [{self.number}]\\n\\t- [{len(self.questions)}] Questions'"
   ]
  },
  {
   "cell_type": "code",
   "execution_count": 9,
   "metadata": {},
   "outputs": [],
   "source": [
    "class CodeAssesment(Assesment):\n",
    "    def __init__(self, chapter:int, number:int, questions:[CodeQuestion]):\n",
    "        super().__init__(chapter, number, questions)\n",
    "        \n",
    "    def start(self):\n",
    "        for question in self.questions:\n",
    "            print(question)\n",
    "            print()\n",
    "            result = input('Please solve the question and enter \"done\" to show our answer! ')\n",
    "            while result != 'done':\n",
    "                result = input('Please solve the question and enter \"done\" to show our answer! ')\n",
    "            print(f'\\nOur Answer::\\n{question.answer}')\n",
    "            print()\n",
    "            print(\"=\" * 100)\n",
    "            print()\n",
    "\n",
    "    def __str__(self):\n",
    "        return f'Code Assesment::\\n\\t- Chapter [{self.chapter}] Quiz [{self.number}]\\n\\t- [{len(self.questions)}] Questions'"
   ]
  },
  {
   "cell_type": "code",
   "execution_count": 10,
   "metadata": {},
   "outputs": [],
   "source": [
    "assesment02_1 = Quiz(2, 1, [\n",
    "    MultipleChoiceQuestion('What does the print function do in Python?', 2, [\n",
    "        'The print function generates PDFs and sends it to the nearest printer.',\n",
    "        'The print function stores values provided by the user.',\n",
    "        'The print function outputs messages to the screen.',\n",
    "        'The print function calculates mathematical operations.'\n",
    "    ])\n",
    "])"
   ]
  },
  {
   "cell_type": "code",
   "execution_count": 11,
   "metadata": {},
   "outputs": [],
   "source": [
    "assesment02_2 = CodeAssesment(2, 2, [\n",
    "    CodeQuestion(\n",
    "        question = 'Output a message that says \"Programming in Python is fun!\" to the screen.',\n",
    "        answer = \"print ('Programming in Python is fun!')\"\n",
    "    )\n",
    "])"
   ]
  },
  {
   "cell_type": "code",
   "execution_count": 12,
   "metadata": {},
   "outputs": [],
   "source": [
    "assesment03_1 = Quiz(3, 1, [\n",
    "    MultipleChoiceQuestion('Why does this code raise an error:\\n\\t>> print(\"1234\" + 5678)', 0, [\n",
    "        \"Because Python doesn't know how to add a number to a string.\",\n",
    "        \"Because in Python it's only possible to add numbers, not strings.\",\n",
    "        \"Because in Python it's not possible to print integers.\",\n",
    "        \"Because numbers shouldn't be written between quotes.\"\n",
    "    ])\n",
    "])"
   ]
  },
  {
   "cell_type": "code",
   "execution_count": 13,
   "metadata": {},
   "outputs": [],
   "source": [
    "assessment03_2 = CodeAssesment(3, 2, [\n",
    "    CodeQuestion(\n",
    "        question = 'Calculate the area of a triangle of base 5, height 3 and output the result.\\n\\t>> Reminder: the area of a triangle is (base * height) / 2.',\n",
    "        answer = \"\"\"\n",
    "        base = 5\n",
    "        height = 3\n",
    "        area = base * height / 2\n",
    "        print(area)\n",
    "        \"\"\"\n",
    "    )\n",
    "])"
   ]
  },
  {
   "cell_type": "code",
   "execution_count": 14,
   "metadata": {},
   "outputs": [],
   "source": [
    "assesment03_3 = Quiz(3, 3, [\n",
    "    TrueFalseQuestion('Is i_am_a_variable a valid variable name?', True),\n",
    "    TrueFalseQuestion('Is i_am_a_variable2 a valid variable name?', True),\n",
    "    TrueFalseQuestion('Is 1_is_a_number a valid variable name?', False),\n",
    "    TrueFalseQuestion('Is apples_&_oranges a valid variable name?', False),\n",
    "    TrueFalseQuestion('Is name a valid variable name?', True),\n",
    "    TrueFalseQuestion('Is NAME a valid variable name?', True),\n",
    "    TrueFalseQuestion('Are name and NAME refer to same variable name?', False),\n",
    "    MultipleChoiceQuestion('What are keywords in Python?', 0, [\n",
    "        'Keywords are reserved words that are used to construct instructions.',\n",
    "        'Keywords are used to calculate mathematical operations.',\n",
    "        'Keywords are used to print messages like \"Hello World!\" to the screen.',\n",
    "        'Keywords are the words that we need to memorize to program in Python.'\n",
    "    ]),\n",
    "])"
   ]
  },
  {
   "cell_type": "code",
   "execution_count": 15,
   "metadata": {},
   "outputs": [],
   "source": [
    "assesment03_4 = CodeAssesment(3, 4, [\n",
    "    CodeQuestion(\n",
    "        question = \"Two friends are eating dinner at a restaurant. The bill comes in the amount of 47.28 dollars. The friends decide to split the bill evenly between them, after adding 15% tip for the service. Calculate the tip, the total amount to pay, and each friend's share, then output a message saying 'Each person needs to pay: ' followed by the resulting number.\",\n",
    "        answer = \"\"\"\n",
    "        bill = 47.28\n",
    "        tip = bill * 15 / 100\n",
    "        total = bill + tip\n",
    "        share = total / 2 \n",
    "        print(\"Each person needs to pay: \" + str(share))\"\"\"\n",
    "    ),\n",
    "    CodeQuestion(\n",
    "        question = \"Write a code that take two numbers, divide one by another and print the result.\",\n",
    "        answer = \"\"\"\n",
    "        numerator = 20\n",
    "        denominator = 10\n",
    "        result = numerator / denominator\n",
    "        print(result)\"\"\"\n",
    "    ),\n",
    "    CodeQuestion(\n",
    "        question = \"Write a code that take two numbers, add them and print the equation including the result.\\n\\t>> Example: for 2 and 3 you should print '2 + 3 = 5'\",\n",
    "        answer = \"\"\"\n",
    "        first_number  = 2\n",
    "        second_number = 3\n",
    "        print(str(first_number) + \" + \" + str(second_number) + \" = \" + str(first_number + second_number))\"\"\"\n",
    "    )\n",
    "])"
   ]
  },
  {
   "cell_type": "code",
   "execution_count": 16,
   "metadata": {},
   "outputs": [],
   "source": [
    "assesment03_5 = Quiz(3, 5, [\n",
    "    MultipleChoiceQuestion(\n",
    "        question = 'What do you call a combination of numbers, symbols, or other values that produce a result when evaluated?',\n",
    "        answer = 1,\n",
    "        options = [\n",
    "            'An explicit conversion',\n",
    "            'An expression',\n",
    "            'A variable',\n",
    "            'An implicit conversion'\n",
    "        ]\n",
    "    )\n",
    "])"
   ]
  },
  {
   "cell_type": "code",
   "execution_count": 18,
   "metadata": {},
   "outputs": [],
   "source": [
    "assesment09_1 = CodeAssesment(9, 1, [\n",
    "    CodeQuestion(\n",
    "        question = 'Write a function to find the summation of all the squares between 2 numbers including these 2 numbers',\n",
    "        answer = \"\"\"\n",
    "        def add_squares(start, end):\n",
    "            result = 0\n",
    "            for value in range(start, end + 1):\n",
    "                result += value ** 2\n",
    "            return result\n",
    "        \"\"\"\n",
    "    ),\n",
    "    CodeQuestion(\n",
    "        question = 'In math, the factorial of a number is defined as the product of an integer and all the integers below it.\\n\\t>>For example, the factorial of four (4!) is equal to 1*2*3*4=24.\\n\\t>>Fill in the blanks to make the factorial function return the right number.',\n",
    "        answer = \"\"\"\n",
    "        def factorial(n):\n",
    "            result = 1\n",
    "            for i in range(1, n + 1):\n",
    "                result *= i\n",
    "            return result\"\"\"\n",
    "    )\n",
    "])"
   ]
  },
  {
   "cell_type": "code",
   "execution_count": 19,
   "metadata": {},
   "outputs": [],
   "source": [
    "assesment20_01 = Quiz(20, 1, [\n",
    "    MultipleChoiceQuestion(\n",
    "        question= \"Let’s test your knowledge of using dot notation to access methods and attributes in an object. Let’s say we have a class called Birds. Birds has two attributes: color and number. Birds also has a method called count() that counts the number of birds (adds a value to number). Which of the following lines of code will correctly print the number of birds? Keep in mind, the number of birds is 0 until they are counted!\",\n",
    "        answer= 2,\n",
    "        options= [\n",
    "            \"\"\"\n",
    "            bluejay.number = 0\n",
    "            print(bluejay.number)\n",
    "            \"\"\",\n",
    "            \"\"\"\n",
    "            print(bluejay.number.count())\n",
    "            \"\"\",\n",
    "            \"\"\"\n",
    "            bluejay.count()\n",
    "            print(bluejay.number)\n",
    "            \"\"\",\n",
    "            \"\"\"\n",
    "            print(bluejay.number)\n",
    "            \"\"\"\n",
    "        ]\n",
    "    ),\n",
    "    MultipleChoiceQuestion(\n",
    "        question= \"What makes an object different from a class?\",\n",
    "        answer= 1,\n",
    "        options= [\n",
    "            \"An object represents and defines a concept\",\n",
    "            \"An object is a specific instance of a class\",\n",
    "            \"An object is a template for a class\",\n",
    "            \"Objects don't have accessible variables\"\n",
    "        ]\n",
    "    )\n",
    "])"
   ]
  },
  {
   "cell_type": "code",
   "execution_count": 20,
   "metadata": {},
   "outputs": [
    {
     "name": "stdout",
     "output_type": "stream",
     "text": [
      "Question:: Let’s test your knowledge of using dot notation to access methods and attributes in an object. Let’s say we have a class called Birds. Birds has two attributes: color and number. Birds also has a method called count() that counts the number of birds (adds a value to number). Which of the following lines of code will correctly print the number of birds? Keep in mind, the number of birds is 0 until they are counted!\n",
      "\n",
      "Options ::\n",
      "\t>> a: \n",
      "            bluejay.number = 0\n",
      "            print(bluejay.number)\n",
      "            \n",
      "\t>> b: print(bluejay.number.count())\n",
      "\t>> c: \n",
      "            bluejay.count()\n",
      "            print(bluejay.number)\n",
      "            \n",
      "\t>> d: print(bluejay.number)\n",
      "\n",
      "Enter your answer: b\n",
      "False\n",
      "Enter your answer: c\n",
      "True\n",
      "\n",
      "====================================================================================================\n",
      "\n",
      "Question:: What makes an object different from a class?\n",
      "\n",
      "Options ::\n",
      "\t>> a: An object represents and defines a concept\n",
      "\t>> b: An object is a specific instance of a class\n",
      "\t>> c: An object is a template for a class\n",
      "\t>> d: Objects don't have accessible variables\n",
      "\n",
      "Enter your answer: c\\\n",
      "False\n",
      "Enter your answer: b\n",
      "True\n",
      "\n",
      "====================================================================================================\n",
      "\n"
     ]
    }
   ],
   "source": [
    "assesment20_01.start()"
   ]
  },
  {
   "cell_type": "code",
   "execution_count": null,
   "metadata": {},
   "outputs": [],
   "source": []
  }
 ],
 "metadata": {
  "kernelspec": {
   "display_name": "Python 3",
   "language": "python",
   "name": "python3"
  },
  "language_info": {
   "codemirror_mode": {
    "name": "ipython",
    "version": 3
   },
   "file_extension": ".py",
   "mimetype": "text/x-python",
   "name": "python",
   "nbconvert_exporter": "python",
   "pygments_lexer": "ipython3",
   "version": "3.8.3"
  }
 },
 "nbformat": 4,
 "nbformat_minor": 4
}
