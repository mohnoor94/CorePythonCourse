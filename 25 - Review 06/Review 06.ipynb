{
 "cells": [
  {
   "cell_type": "markdown",
   "metadata": {},
   "source": [
    "# R6.1 Lambda Functions"
   ]
  },
  {
   "cell_type": "code",
   "execution_count": 1,
   "metadata": {},
   "outputs": [],
   "source": [
    "cube = lambda x: x ** 3"
   ]
  },
  {
   "cell_type": "code",
   "execution_count": 2,
   "metadata": {},
   "outputs": [
    {
     "data": {
      "text/plain": [
       "function"
      ]
     },
     "execution_count": 2,
     "metadata": {},
     "output_type": "execute_result"
    }
   ],
   "source": [
    "type(cube)"
   ]
  },
  {
   "cell_type": "code",
   "execution_count": 3,
   "metadata": {},
   "outputs": [
    {
     "data": {
      "text/plain": [
       "8"
      ]
     },
     "execution_count": 3,
     "metadata": {},
     "output_type": "execute_result"
    }
   ],
   "source": [
    "cube(2)"
   ]
  },
  {
   "cell_type": "code",
   "execution_count": 4,
   "metadata": {},
   "outputs": [
    {
     "data": {
      "text/plain": [
       "1000"
      ]
     },
     "execution_count": 4,
     "metadata": {},
     "output_type": "execute_result"
    }
   ],
   "source": [
    "cube(10)"
   ]
  },
  {
   "cell_type": "code",
   "execution_count": 5,
   "metadata": {},
   "outputs": [
    {
     "data": {
      "text/plain": [
       "1728000"
      ]
     },
     "execution_count": 5,
     "metadata": {},
     "output_type": "execute_result"
    }
   ],
   "source": [
    "cube(120)"
   ]
  },
  {
   "cell_type": "markdown",
   "metadata": {},
   "source": [
    "---"
   ]
  },
  {
   "cell_type": "code",
   "execution_count": 6,
   "metadata": {},
   "outputs": [
    {
     "data": {
      "text/plain": [
       "[1, 2, 3, 4, 5, 6, 7, 8, 9, 10]"
      ]
     },
     "execution_count": 6,
     "metadata": {},
     "output_type": "execute_result"
    }
   ],
   "source": [
    "one_to_ten = list(range(1, 11))\n",
    "one_to_ten"
   ]
  },
  {
   "cell_type": "code",
   "execution_count": 7,
   "metadata": {},
   "outputs": [
    {
     "data": {
      "text/plain": [
       "[3, 7, 2, 1, 5, 0, 9, 18, 6]"
      ]
     },
     "execution_count": 7,
     "metadata": {},
     "output_type": "execute_result"
    }
   ],
   "source": [
    "random_numbers = [3, 7, 2, 1, 5, 0, 9, 18, 6]\n",
    "random_numbers"
   ]
  },
  {
   "cell_type": "code",
   "execution_count": 8,
   "metadata": {},
   "outputs": [
    {
     "data": {
      "text/plain": [
       "['Ali', 'Noor', 'Mais', 'Mi', 'Angilina']"
      ]
     },
     "execution_count": 8,
     "metadata": {},
     "output_type": "execute_result"
    }
   ],
   "source": [
    "names = ['Ali', 'Noor', 'Mais', 'Mi', 'Angilina']\n",
    "names"
   ]
  },
  {
   "cell_type": "markdown",
   "metadata": {},
   "source": [
    "---"
   ]
  },
  {
   "cell_type": "markdown",
   "metadata": {},
   "source": [
    "# R6.2 `map`"
   ]
  },
  {
   "cell_type": "code",
   "execution_count": 9,
   "metadata": {},
   "outputs": [
    {
     "name": "stdout",
     "output_type": "stream",
     "text": [
      "[1, 2, 3, 4, 5, 6, 7, 8, 9, 10]\n",
      "[1, 8, 27, 64, 125, 216, 343, 512, 729, 1000]\n"
     ]
    }
   ],
   "source": [
    "print(one_to_ten)\n",
    "print(list(map(cube, one_to_ten)))"
   ]
  },
  {
   "cell_type": "code",
   "execution_count": 10,
   "metadata": {},
   "outputs": [
    {
     "name": "stdout",
     "output_type": "stream",
     "text": [
      "['Ali', 'Noor', 'Mais', 'Mi', 'Angilina']\n",
      "[('Ali', 3), ('Noor', 4), ('Mais', 4), ('Mi', 2), ('Angilina', 8)]\n"
     ]
    }
   ],
   "source": [
    "attach_length = lambda s: (s, len(s))\n",
    "# Python - Type Hints\n",
    "print(names)\n",
    "print(list(map(attach_length, names)))"
   ]
  },
  {
   "cell_type": "markdown",
   "metadata": {},
   "source": [
    "# R6.3 `filter`"
   ]
  },
  {
   "cell_type": "code",
   "execution_count": 11,
   "metadata": {},
   "outputs": [
    {
     "name": "stdout",
     "output_type": "stream",
     "text": [
      "[1, 2, 3, 4, 5, 6, 7, 8, 9, 10]\n",
      "[1, 2, 3, 4]\n"
     ]
    }
   ],
   "source": [
    "print(one_to_ten)\n",
    "print(list(filter(lambda x: x < 5, one_to_ten)))"
   ]
  },
  {
   "cell_type": "code",
   "execution_count": 12,
   "metadata": {},
   "outputs": [
    {
     "name": "stdout",
     "output_type": "stream",
     "text": [
      "[3, 7, 2, 1, 5, 0, 9, 18, 6]\n",
      "{1, 3, 5, 7, 9}\n"
     ]
    }
   ],
   "source": [
    "print(random_numbers)\n",
    "print(set(filter(lambda x: x % 2 != 0, random_numbers)))"
   ]
  },
  {
   "cell_type": "code",
   "execution_count": 13,
   "metadata": {},
   "outputs": [
    {
     "name": "stdout",
     "output_type": "stream",
     "text": [
      "['Ali', 'Noor', 'Mais', 'Mi', 'Angilina']\n",
      "['Noor', 'Mais', 'Angilina']\n"
     ]
    }
   ],
   "source": [
    "print(names)\n",
    "print(list(filter(lambda n: len(n) > 3, names)))"
   ]
  },
  {
   "cell_type": "markdown",
   "metadata": {},
   "source": [
    "# R6.4 `enumerate`"
   ]
  },
  {
   "cell_type": "code",
   "execution_count": 14,
   "metadata": {},
   "outputs": [
    {
     "name": "stdout",
     "output_type": "stream",
     "text": [
      "['Ali', 'Noor', 'Mais', 'Mi', 'Angilina']\n",
      "[(0, 'Ali'), (1, 'Noor'), (2, 'Mais'), (3, 'Mi'), (4, 'Angilina')]\n"
     ]
    }
   ],
   "source": [
    "print(names)\n",
    "print(list(enumerate(names)))"
   ]
  },
  {
   "cell_type": "code",
   "execution_count": 15,
   "metadata": {},
   "outputs": [
    {
     "name": "stdout",
     "output_type": "stream",
     "text": [
      "[3, 7, 2, 1, 5, 0, 9, 18, 6]\n",
      "[(0, 3), (1, 7), (2, 2), (3, 1), (4, 5), (5, 0), (6, 9), (7, 18), (8, 6)]\n"
     ]
    }
   ],
   "source": [
    "print(random_numbers)\n",
    "print(list(enumerate(random_numbers)))"
   ]
  },
  {
   "cell_type": "code",
   "execution_count": 16,
   "metadata": {},
   "outputs": [
    {
     "name": "stdout",
     "output_type": "stream",
     "text": [
      "Ali is at index 0\n",
      "Noor is at index 1\n",
      "Mais is at index 2\n",
      "Mi is at index 3\n",
      "Angilina is at index 4\n"
     ]
    }
   ],
   "source": [
    "for i, name in enumerate(names):\n",
    "    print(f\"{name} is at index {i}\")"
   ]
  },
  {
   "cell_type": "markdown",
   "metadata": {},
   "source": [
    "# R6.5 `sorted`"
   ]
  },
  {
   "cell_type": "code",
   "execution_count": 17,
   "metadata": {},
   "outputs": [
    {
     "name": "stdout",
     "output_type": "stream",
     "text": [
      "[3, 7, 2, 1, 5, 0, 9, 18, 6]\n",
      "[0, 1, 2, 3, 5, 6, 7, 9, 18]\n"
     ]
    }
   ],
   "source": [
    "print(random_numbers)\n",
    "print(sorted(random_numbers))"
   ]
  },
  {
   "cell_type": "code",
   "execution_count": 18,
   "metadata": {},
   "outputs": [
    {
     "name": "stdout",
     "output_type": "stream",
     "text": [
      "[3, 7, 2, 1, 5, 0, 9, 18, 6]\n",
      "[18, 9, 7, 6, 5, 3, 2, 1, 0]\n"
     ]
    }
   ],
   "source": [
    "print(random_numbers)\n",
    "print(sorted(random_numbers, reverse=True))"
   ]
  },
  {
   "cell_type": "code",
   "execution_count": 19,
   "metadata": {},
   "outputs": [
    {
     "name": "stdout",
     "output_type": "stream",
     "text": [
      "['Ali', 'Noor', 'Mais', 'Mi', 'Angilina']\n",
      "['Mi', 'Ali', 'Noor', 'Mais', 'Angilina']\n"
     ]
    }
   ],
   "source": [
    "print(names)\n",
    "print(sorted(names, key= lambda n: len(n)))"
   ]
  },
  {
   "cell_type": "markdown",
   "metadata": {},
   "source": [
    "# R6.6 `all`"
   ]
  },
  {
   "cell_type": "code",
   "execution_count": 20,
   "metadata": {},
   "outputs": [
    {
     "name": "stdout",
     "output_type": "stream",
     "text": [
      "[1, 2, 3, 4, 5, 6, 7, 8, 9, 10]\n",
      "True\n"
     ]
    }
   ],
   "source": [
    "print(one_to_ten)\n",
    "print(all(one_to_ten))"
   ]
  },
  {
   "cell_type": "code",
   "execution_count": 21,
   "metadata": {},
   "outputs": [
    {
     "name": "stdout",
     "output_type": "stream",
     "text": [
      "['Ali', 'Noor', 'Mais', 'Mi', 'Angilina']\n",
      "True\n"
     ]
    }
   ],
   "source": [
    "print(names)\n",
    "print(all(names))"
   ]
  },
  {
   "cell_type": "code",
   "execution_count": 23,
   "metadata": {},
   "outputs": [
    {
     "name": "stdout",
     "output_type": "stream",
     "text": [
      "['Ali', 'Noor', 'Mais', 'Mi', 'Angilina']\n",
      "[False, True, True, False, True]\n",
      "False\n"
     ]
    }
   ],
   "source": [
    "longer_than_three = lambda n: len(n) > 3\n",
    "are_names_longer_than_three = list(map(longer_than_three, names))\n",
    "\n",
    "print(names)\n",
    "print(are_names_longer_than_three)\n",
    "print(all(are_names_longer_than_three))"
   ]
  },
  {
   "cell_type": "markdown",
   "metadata": {},
   "source": [
    "# R6.7 `any`"
   ]
  },
  {
   "cell_type": "code",
   "execution_count": 24,
   "metadata": {},
   "outputs": [
    {
     "name": "stdout",
     "output_type": "stream",
     "text": [
      "[1, 2, 3, 4, 5, 6, 7, 8, 9, 10]\n",
      "True\n"
     ]
    }
   ],
   "source": [
    "print(one_to_ten)\n",
    "print(any(one_to_ten))"
   ]
  },
  {
   "cell_type": "code",
   "execution_count": 25,
   "metadata": {},
   "outputs": [
    {
     "name": "stdout",
     "output_type": "stream",
     "text": [
      "['Ali', 'Noor', 'Mais', 'Mi', 'Angilina']\n",
      "[False, True, True, False, True]\n",
      "True\n"
     ]
    }
   ],
   "source": [
    "longer_than_three = lambda n: len(n) > 3\n",
    "are_names_longer_than_three = list(map(longer_than_three, names))\n",
    "\n",
    "print(names)\n",
    "print(are_names_longer_than_three)\n",
    "print(any(are_names_longer_than_three))"
   ]
  },
  {
   "cell_type": "markdown",
   "metadata": {},
   "source": [
    "# R6.8 `sum`"
   ]
  },
  {
   "cell_type": "code",
   "execution_count": 26,
   "metadata": {},
   "outputs": [
    {
     "name": "stdout",
     "output_type": "stream",
     "text": [
      "[1, 2, 3, 4, 5, 6, 7, 8, 9, 10]\n",
      "55\n"
     ]
    }
   ],
   "source": [
    "print(one_to_ten)\n",
    "print(sum(one_to_ten))"
   ]
  },
  {
   "cell_type": "code",
   "execution_count": 27,
   "metadata": {},
   "outputs": [
    {
     "name": "stdout",
     "output_type": "stream",
     "text": [
      "[1, 2, 3, 4, 5, 6, 7, 8, 9, 10]\n",
      "155\n"
     ]
    }
   ],
   "source": [
    "print(one_to_ten)\n",
    "print(sum(one_to_ten, start= 100))"
   ]
  },
  {
   "cell_type": "markdown",
   "metadata": {},
   "source": [
    "# R6.9 `max`"
   ]
  },
  {
   "cell_type": "code",
   "execution_count": 28,
   "metadata": {},
   "outputs": [
    {
     "name": "stdout",
     "output_type": "stream",
     "text": [
      "[3, 7, 2, 1, 5, 0, 9, 18, 6]\n",
      "18\n"
     ]
    }
   ],
   "source": [
    "print(random_numbers)\n",
    "print(max(random_numbers))"
   ]
  },
  {
   "cell_type": "code",
   "execution_count": 29,
   "metadata": {},
   "outputs": [
    {
     "name": "stdout",
     "output_type": "stream",
     "text": [
      "['Ali', 'Noor', 'Mais', 'Mi', 'Angilina']\n",
      "Noor\n"
     ]
    }
   ],
   "source": [
    "print(names)\n",
    "print(max(names))"
   ]
  },
  {
   "cell_type": "code",
   "execution_count": 30,
   "metadata": {},
   "outputs": [
    {
     "name": "stdout",
     "output_type": "stream",
     "text": [
      "['Ali', 'Noor', 'Mais', 'Mi', 'Angilina']\n",
      "Angilina\n"
     ]
    }
   ],
   "source": [
    "print(names)\n",
    "print(max(names, key= lambda n: len(n)))"
   ]
  },
  {
   "cell_type": "code",
   "execution_count": 31,
   "metadata": {},
   "outputs": [
    {
     "name": "stdout",
     "output_type": "stream",
     "text": [
      "20\n"
     ]
    }
   ],
   "source": [
    "print(max(10, 20))"
   ]
  },
  {
   "cell_type": "markdown",
   "metadata": {},
   "source": [
    "# R6.10 `min`"
   ]
  },
  {
   "cell_type": "code",
   "execution_count": 32,
   "metadata": {},
   "outputs": [
    {
     "name": "stdout",
     "output_type": "stream",
     "text": [
      "[3, 7, 2, 1, 5, 0, 9, 18, 6]\n",
      "0\n"
     ]
    }
   ],
   "source": [
    "print(random_numbers)\n",
    "print(min(random_numbers))"
   ]
  },
  {
   "cell_type": "code",
   "execution_count": 33,
   "metadata": {},
   "outputs": [
    {
     "name": "stdout",
     "output_type": "stream",
     "text": [
      "['Ali', 'Noor', 'Mais', 'Mi', 'Angilina']\n",
      "Ali\n"
     ]
    }
   ],
   "source": [
    "print(names)\n",
    "print(min(names))"
   ]
  },
  {
   "cell_type": "code",
   "execution_count": 34,
   "metadata": {},
   "outputs": [
    {
     "name": "stdout",
     "output_type": "stream",
     "text": [
      "['Ali', 'Noor', 'Mais', 'Mi', 'Angilina']\n",
      "Mi\n"
     ]
    }
   ],
   "source": [
    "print(names)\n",
    "print(min(names, key= lambda n: len(n)))"
   ]
  },
  {
   "cell_type": "code",
   "execution_count": 35,
   "metadata": {},
   "outputs": [
    {
     "name": "stdout",
     "output_type": "stream",
     "text": [
      "10\n"
     ]
    }
   ],
   "source": [
    "print(min(30, 10, 20))"
   ]
  },
  {
   "cell_type": "markdown",
   "metadata": {},
   "source": [
    "# R6.11 `zip`"
   ]
  },
  {
   "cell_type": "code",
   "execution_count": 36,
   "metadata": {},
   "outputs": [
    {
     "name": "stdout",
     "output_type": "stream",
     "text": [
      "['Ali', 'Noor', 'Mais', 'Mi', 'Angilina']\n",
      "[(0, 'Ali'), (1, 'Noor'), (2, 'Mais'), (3, 'Mi'), (4, 'Angilina')]\n"
     ]
    }
   ],
   "source": [
    "print(names)\n",
    "print(list(zip(range(len(names)), names)))"
   ]
  },
  {
   "cell_type": "code",
   "execution_count": 37,
   "metadata": {},
   "outputs": [
    {
     "name": "stdout",
     "output_type": "stream",
     "text": [
      "['Ali', 'Noor', 'Mais', 'Mi', 'Angilina']\n",
      "[('Ali', 10), ('Noor', 20), ('Mais', 30)]\n"
     ]
    }
   ],
   "source": [
    "print(names)\n",
    "print(list(zip(names, [10, 20, 30])))"
   ]
  },
  {
   "cell_type": "code",
   "execution_count": null,
   "metadata": {},
   "outputs": [],
   "source": []
  }
 ],
 "metadata": {
  "kernelspec": {
   "display_name": "Python 3",
   "language": "python",
   "name": "python3"
  },
  "language_info": {
   "codemirror_mode": {
    "name": "ipython",
    "version": 3
   },
   "file_extension": ".py",
   "mimetype": "text/x-python",
   "name": "python",
   "nbconvert_exporter": "python",
   "pygments_lexer": "ipython3",
   "version": "3.8.3"
  }
 },
 "nbformat": 4,
 "nbformat_minor": 4
}
